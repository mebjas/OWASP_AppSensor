{
 "cells": [
  {
   "cell_type": "markdown",
   "metadata": {},
   "source": [
    "# OWASP APP SENSOR Data Science Project"
   ]
  },
  {
   "cell_type": "code",
   "execution_count": 2,
   "metadata": {
    "collapsed": true
   },
   "outputs": [],
   "source": [
    "import pandas as pd\n",
    "import matplotlib.pyplot as plt\n",
    "import seaborn as sns\n",
    "import numpy as np\n",
    "from scipy.stats import norm\n",
    "from sklearn.preprocessing import StandardScaler\n",
    "from scipy import stats\n",
    "import warnings\n",
    "warnings.filterwarnings('ignore')\n",
    "%matplotlib inline"
   ]
  },
  {
   "cell_type": "markdown",
   "metadata": {},
   "source": [
    "### pre processing log file to convert to csv file for better data exploration\n",
    "\n",
    "In this step we will read the log files line by line, extract relevant features and store them in a data frame. We will export the data as CSV for later use;\n",
    "\n",
    "Looking at the first line in log file it looks like this:\n",
    "```\n",
    "221.91.121.253 - - [18/Jul/2017:20:01:24 +0530] \"PUT /search/tag/list HTTP/1.0\" 200 5022 \"http://www.white.com/app/search/terms/\" \"Mozilla/5.0 (Macintosh; U; PPC Mac OS X 10_5_7; rv:1.9.3.20) Gecko/2015-06-10 13:03:34 Firefox/3.6.20\"\n",
    "```\n",
    "\n",
    "In the firstview we can observe:\n",
    " - There is IP address\n",
    " - Date, with proper timezone\n",
    " - Request type (PUT, GET, POST)\n",
    " - Path of request\n",
    " - Response Code\n",
    " - referrer\n",
    " - Information on user agent\n"
   ]
  },
  {
   "cell_type": "code",
   "execution_count": 5,
   "metadata": {},
   "outputs": [],
   "source": [
    "# Preprocesssing\n",
    "import os\n",
    "import re\n",
    "import fileinput\n",
    "try: import simplejson as json\n",
    "except ImportError: import json"
   ]
  },
  {
   "cell_type": "code",
   "execution_count": 7,
   "metadata": {
    "collapsed": true
   },
   "outputs": [],
   "source": [
    "def line2dict(line):\n",
    "    #Snippet, thanks to http://www.seehuhn.de/blog/52\n",
    "    parts = [\n",
    "    r'(?P<HOST>\\S+)',                   # host %h\n",
    "    r'(?P<IDENTITY>\\S+)',               # indent %l (unused)\n",
    "    r'(?P<USER>\\S+)',                   # user %u\n",
    "    r'\\[(?P<TIME>.+)\\]',                # time %t\n",
    "    r'\"(?P<REQUEST>.+)\"',               # request \"%r\"\n",
    "    r'(?P<STATUS>[0-9]+)',              # status %>s\n",
    "    r'(?P<SIZE>\\S+)',                   # size %b (careful, can be '-')\n",
    "    r'\"(?P<REFERER>.*)\"',               # referer \"%{Referer}i\"\n",
    "    r'\"(?P<USERAGENT>.*)\"',                 # user agent \"%{User-agent}i\"\n",
    "]\n",
    "    pattern = re.compile(r'\\s+'.join(parts)+r'\\s*\\Z')\n",
    "    m = pattern.match(line)\n",
    "    res = m.groupdict()\n",
    "    return res"
   ]
  },
  {
   "cell_type": "code",
   "execution_count": 26,
   "metadata": {},
   "outputs": [],
   "source": [
    "data = []\n",
    "with open (\"..\\\\access_log_20170718-195742.log\", 'r') as ifp:\n",
    "    for line in ifp:\n",
    "        data.append (line2dict(line))\n",
    "    \n",
    "df = pd.DataFrame(data)"
   ]
  },
  {
   "cell_type": "code",
   "execution_count": 27,
   "metadata": {},
   "outputs": [
    {
     "data": {
      "text/plain": [
       "Index(['HOST', 'IDENTITY', 'REFERER', 'REQUEST', 'SIZE', 'STATUS', 'TIME',\n",
       "       'USER', 'USERAGENT'],\n",
       "      dtype='object')"
      ]
     },
     "execution_count": 27,
     "metadata": {},
     "output_type": "execute_result"
    }
   ],
   "source": [
    "# List all the columns\n",
    "df.columns"
   ]
  },
  {
   "cell_type": "code",
   "execution_count": 29,
   "metadata": {},
   "outputs": [
    {
     "data": {
      "text/html": [
       "<div>\n",
       "<table border=\"1\" class=\"dataframe\">\n",
       "  <thead>\n",
       "    <tr style=\"text-align: right;\">\n",
       "      <th></th>\n",
       "      <th>HOST</th>\n",
       "      <th>IDENTITY</th>\n",
       "      <th>REFERER</th>\n",
       "      <th>REQUEST</th>\n",
       "      <th>SIZE</th>\n",
       "      <th>STATUS</th>\n",
       "      <th>TIME</th>\n",
       "      <th>USER</th>\n",
       "      <th>USERAGENT</th>\n",
       "    </tr>\n",
       "  </thead>\n",
       "  <tbody>\n",
       "    <tr>\n",
       "      <th>0</th>\n",
       "      <td>221.91.121.253</td>\n",
       "      <td>-</td>\n",
       "      <td>http://www.white.com/app/search/terms/</td>\n",
       "      <td>PUT /search/tag/list HTTP/1.0</td>\n",
       "      <td>5022</td>\n",
       "      <td>200</td>\n",
       "      <td>18/Jul/2017:20:01:24 +0530</td>\n",
       "      <td>-</td>\n",
       "      <td>Mozilla/5.0 (Macintosh; U; PPC Mac OS X 10_5_7...</td>\n",
       "    </tr>\n",
       "    <tr>\n",
       "      <th>1</th>\n",
       "      <td>4.72.194.74</td>\n",
       "      <td>-</td>\n",
       "      <td>http://www.johnston.com/</td>\n",
       "      <td>POST /wp-admin HTTP/1.0</td>\n",
       "      <td>4983</td>\n",
       "      <td>200</td>\n",
       "      <td>18/Jul/2017:20:03:55 +0530</td>\n",
       "      <td>-</td>\n",
       "      <td>Opera/9.53.(Windows 98; Win 9x 4.90; en-US) Pr...</td>\n",
       "    </tr>\n",
       "    <tr>\n",
       "      <th>2</th>\n",
       "      <td>222.79.189.106</td>\n",
       "      <td>-</td>\n",
       "      <td>http://chan-soto.com/</td>\n",
       "      <td>GET /posts/posts/explore HTTP/1.0</td>\n",
       "      <td>5017</td>\n",
       "      <td>200</td>\n",
       "      <td>18/Jul/2017:20:04:56 +0530</td>\n",
       "      <td>-</td>\n",
       "      <td>Mozilla/5.0 (Windows NT 6.1) AppleWebKit/5311 ...</td>\n",
       "    </tr>\n",
       "    <tr>\n",
       "      <th>3</th>\n",
       "      <td>57.163.21.102</td>\n",
       "      <td>-</td>\n",
       "      <td>http://colon.com/</td>\n",
       "      <td>GET /explore HTTP/1.0</td>\n",
       "      <td>5047</td>\n",
       "      <td>200</td>\n",
       "      <td>18/Jul/2017:20:06:32 +0530</td>\n",
       "      <td>-</td>\n",
       "      <td>Mozilla/5.0 (Macintosh; PPC Mac OS X 10_6_4) A...</td>\n",
       "    </tr>\n",
       "    <tr>\n",
       "      <th>4</th>\n",
       "      <td>156.218.66.7</td>\n",
       "      <td>-</td>\n",
       "      <td>http://www.molina.org/index/</td>\n",
       "      <td>GET /wp-admin HTTP/1.0</td>\n",
       "      <td>4900</td>\n",
       "      <td>200</td>\n",
       "      <td>18/Jul/2017:20:09:35 +0530</td>\n",
       "      <td>-</td>\n",
       "      <td>Mozilla/5.0 (Windows 98; Win 9x 4.90; sl-SI; r...</td>\n",
       "    </tr>\n",
       "  </tbody>\n",
       "</table>\n",
       "</div>"
      ],
      "text/plain": [
       "             HOST IDENTITY                                 REFERER  \\\n",
       "0  221.91.121.253        -  http://www.white.com/app/search/terms/   \n",
       "1     4.72.194.74        -                http://www.johnston.com/   \n",
       "2  222.79.189.106        -                   http://chan-soto.com/   \n",
       "3   57.163.21.102        -                       http://colon.com/   \n",
       "4    156.218.66.7        -            http://www.molina.org/index/   \n",
       "\n",
       "                             REQUEST  SIZE STATUS                        TIME  \\\n",
       "0      PUT /search/tag/list HTTP/1.0  5022    200  18/Jul/2017:20:01:24 +0530   \n",
       "1            POST /wp-admin HTTP/1.0  4983    200  18/Jul/2017:20:03:55 +0530   \n",
       "2  GET /posts/posts/explore HTTP/1.0  5017    200  18/Jul/2017:20:04:56 +0530   \n",
       "3              GET /explore HTTP/1.0  5047    200  18/Jul/2017:20:06:32 +0530   \n",
       "4             GET /wp-admin HTTP/1.0  4900    200  18/Jul/2017:20:09:35 +0530   \n",
       "\n",
       "  USER                                          USERAGENT  \n",
       "0    -  Mozilla/5.0 (Macintosh; U; PPC Mac OS X 10_5_7...  \n",
       "1    -  Opera/9.53.(Windows 98; Win 9x 4.90; en-US) Pr...  \n",
       "2    -  Mozilla/5.0 (Windows NT 6.1) AppleWebKit/5311 ...  \n",
       "3    -  Mozilla/5.0 (Macintosh; PPC Mac OS X 10_6_4) A...  \n",
       "4    -  Mozilla/5.0 (Windows 98; Win 9x 4.90; sl-SI; r...  "
      ]
     },
     "execution_count": 29,
     "metadata": {},
     "output_type": "execute_result"
    }
   ],
   "source": [
    "# lets look at first five entries\n",
    "df.head(5)"
   ]
  },
  {
   "cell_type": "markdown",
   "metadata": {},
   "source": [
    "### Lets try transforming the request to get more meta data\n",
    "We can convert REQUEST `PUT /search/tag/list HTTP/1.0`\n",
    "```\n",
    "TYPE: PUT\n",
    "PATH: /search/tag/list\n",
    "VERSION: HTTP/1.0\n",
    "```"
   ]
  },
  {
   "cell_type": "code",
   "execution_count": 42,
   "metadata": {},
   "outputs": [],
   "source": [
    "def transformRequest(req):\n",
    "    return np.array([str.split(' ') for str in req]).T\n",
    "\n",
    "rtype, rpath, rver = (transformRequest(df['REQUEST']))\n",
    "df['REQUEST.TYPE'] = rtype\n",
    "df['REQUEST.PATH'] = rpath\n",
    "df['REQUEST.VER'] = rver\n",
    "\n"
   ]
  },
  {
   "cell_type": "code",
   "execution_count": 49,
   "metadata": {},
   "outputs": [
    {
     "data": {
      "image/png": "[encoded data removed]",
      "text/plain": [
       "<matplotlib.figure.Figure at 0x27321a8f198>"
      ]
     },
     "metadata": {},
     "output_type": "display_data"
    }
   ],
   "source": [
    "# distribution\n",
    "sns.countplot(x=\"REQUEST.TYPE\", data=df, palette=\"Greens_d\");"
   ]
  },
  {
   "cell_type": "code",
   "execution_count": 50,
   "metadata": {},
   "outputs": [
    {
     "data": {
      "image/png": "[encoded data removed]",
      "text/plain": [
       "<matplotlib.figure.Figure at 0x27320ffba20>"
      ]
     },
     "metadata": {},
     "output_type": "display_data"
    }
   ],
   "source": [
    "# distribution\n",
    "sns.countplot(x=\"REQUEST.PATH\", data=df, palette=\"Greens_d\");"
   ]
  },
  {
   "cell_type": "code",
   "execution_count": 51,
   "metadata": {},
   "outputs": [
    {
     "data": {
      "text/plain": [
       "count           100\n",
       "unique           19\n",
       "top       /wp-admin\n",
       "freq             19\n",
       "Name: REQUEST.PATH, dtype: object"
      ]
     },
     "execution_count": 51,
     "metadata": {},
     "output_type": "execute_result"
    }
   ],
   "source": [
    "df['REQUEST.PATH'].describe()"
   ]
  },
  {
   "cell_type": "markdown",
   "metadata": {},
   "source": [
    "So we have four type of requests in the log file. No of Get is greater than others.\n",
    "In case of request path, there are 19 distinct values; the path `/wp-admin` has higest frequency `19`.\n",
    "\n",
    "This is interesting if we mark path like `/wp-admin` as sensitive and detect cases when there is a spike in request to this path, or coming from different urls etc"
   ]
  },
  {
   "cell_type": "markdown",
   "metadata": {},
   "source": [
    "#### Lets look at response code\n"
   ]
  },
  {
   "cell_type": "code",
   "execution_count": 52,
   "metadata": {},
   "outputs": [
    {
     "data": {
      "text/plain": [
       "count     100\n",
       "unique      4\n",
       "top       200\n",
       "freq       87\n",
       "Name: STATUS, dtype: object"
      ]
     },
     "execution_count": 52,
     "metadata": {},
     "output_type": "execute_result"
    }
   ],
   "source": [
    "df['STATUS'].describe()"
   ]
  },
  {
   "cell_type": "code",
   "execution_count": 53,
   "metadata": {},
   "outputs": [
    {
     "data": {
      "image/png": "[encoded data removed]",
      "text/plain": [
       "<matplotlib.figure.Figure at 0x27321a7da58>"
      ]
     },
     "metadata": {},
     "output_type": "display_data"
    }
   ],
   "source": [
    "# distribution\n",
    "sns.countplot(x=\"STATUS\", data=df, palette=\"Greens_d\");"
   ]
  },
  {
   "cell_type": "markdown",
   "metadata": {},
   "source": [
    "majority of them passed with 200 code; there were a few redirects, failures and server error;\n",
    "\n",
    "### One interesting analysis is response code vs request type"
   ]
  },
  {
   "cell_type": "code",
   "execution_count": 74,
   "metadata": {},
   "outputs": [
    {
     "data": {
      "image/png": "[encoded data removed]",
      "text/plain": [
       "<matplotlib.figure.Figure at 0x273214075f8>"
      ]
     },
     "metadata": {},
     "output_type": "display_data"
    }
   ],
   "source": [
    "sns.stripplot(x=\"STATUS\", y=\"REQUEST.TYPE\", data=df, jitter=True);"
   ]
  },
  {
   "cell_type": "markdown",
   "metadata": {},
   "source": [
    "This kind of analysis will give more idea on distribution of failure for request type. We had `4xx` series alerts for `GET` request."
   ]
  },
  {
   "cell_type": "markdown",
   "metadata": {},
   "source": [
    "## IP address\n"
   ]
  },
  {
   "cell_type": "code",
   "execution_count": 98,
   "metadata": {},
   "outputs": [
    {
     "data": {
      "text/html": [
       "<div>\n",
       "<table border=\"1\" class=\"dataframe\">\n",
       "  <thead>\n",
       "    <tr style=\"text-align: right;\">\n",
       "      <th></th>\n",
       "      <th>HOST</th>\n",
       "      <th>IDENTITY</th>\n",
       "      <th>REFERER</th>\n",
       "      <th>REQUEST</th>\n",
       "      <th>SIZE</th>\n",
       "      <th>STATUS</th>\n",
       "      <th>TIME</th>\n",
       "      <th>USER</th>\n",
       "      <th>USERAGENT</th>\n",
       "      <th>REQUEST.TYPE</th>\n",
       "      <th>REQUEST.PATH</th>\n",
       "      <th>REQUEST.VER</th>\n",
       "      <th>SUB1</th>\n",
       "      <th>SUB2</th>\n",
       "      <th>SUB3</th>\n",
       "      <th>SUB4</th>\n",
       "    </tr>\n",
       "  </thead>\n",
       "  <tbody>\n",
       "    <tr>\n",
       "      <th>0</th>\n",
       "      <td>221.91.121.253</td>\n",
       "      <td>-</td>\n",
       "      <td>http://www.white.com/app/search/terms/</td>\n",
       "      <td>PUT /search/tag/list HTTP/1.0</td>\n",
       "      <td>5022</td>\n",
       "      <td>200</td>\n",
       "      <td>18/Jul/2017:20:01:24 +0530</td>\n",
       "      <td>-</td>\n",
       "      <td>Mozilla/5.0 (Macintosh; U; PPC Mac OS X 10_5_7...</td>\n",
       "      <td>PUT</td>\n",
       "      <td>/search/tag/list</td>\n",
       "      <td>HTTP/1.0</td>\n",
       "      <td>221.-.-.-</td>\n",
       "      <td>221.91.-.-</td>\n",
       "      <td>221.91.121.-</td>\n",
       "      <td>221.91.121.253</td>\n",
       "    </tr>\n",
       "    <tr>\n",
       "      <th>1</th>\n",
       "      <td>4.72.194.74</td>\n",
       "      <td>-</td>\n",
       "      <td>http://www.johnston.com/</td>\n",
       "      <td>POST /wp-admin HTTP/1.0</td>\n",
       "      <td>4983</td>\n",
       "      <td>200</td>\n",
       "      <td>18/Jul/2017:20:03:55 +0530</td>\n",
       "      <td>-</td>\n",
       "      <td>Opera/9.53.(Windows 98; Win 9x 4.90; en-US) Pr...</td>\n",
       "      <td>POST</td>\n",
       "      <td>/wp-admin</td>\n",
       "      <td>HTTP/1.0</td>\n",
       "      <td>4.-.-.-</td>\n",
       "      <td>4.72.-.-</td>\n",
       "      <td>4.72.194.-</td>\n",
       "      <td>4.72.194.74</td>\n",
       "    </tr>\n",
       "    <tr>\n",
       "      <th>2</th>\n",
       "      <td>222.79.189.106</td>\n",
       "      <td>-</td>\n",
       "      <td>http://chan-soto.com/</td>\n",
       "      <td>GET /posts/posts/explore HTTP/1.0</td>\n",
       "      <td>5017</td>\n",
       "      <td>200</td>\n",
       "      <td>18/Jul/2017:20:04:56 +0530</td>\n",
       "      <td>-</td>\n",
       "      <td>Mozilla/5.0 (Windows NT 6.1) AppleWebKit/5311 ...</td>\n",
       "      <td>GET</td>\n",
       "      <td>/posts/posts/explore</td>\n",
       "      <td>HTTP/1.0</td>\n",
       "      <td>222.-.-.-</td>\n",
       "      <td>222.79.-.-</td>\n",
       "      <td>222.79.189.-</td>\n",
       "      <td>222.79.189.106</td>\n",
       "    </tr>\n",
       "    <tr>\n",
       "      <th>3</th>\n",
       "      <td>57.163.21.102</td>\n",
       "      <td>-</td>\n",
       "      <td>http://colon.com/</td>\n",
       "      <td>GET /explore HTTP/1.0</td>\n",
       "      <td>5047</td>\n",
       "      <td>200</td>\n",
       "      <td>18/Jul/2017:20:06:32 +0530</td>\n",
       "      <td>-</td>\n",
       "      <td>Mozilla/5.0 (Macintosh; PPC Mac OS X 10_6_4) A...</td>\n",
       "      <td>GET</td>\n",
       "      <td>/explore</td>\n",
       "      <td>HTTP/1.0</td>\n",
       "      <td>57.-.-.-</td>\n",
       "      <td>57.163.-.-</td>\n",
       "      <td>57.163.21.-</td>\n",
       "      <td>57.163.21.102</td>\n",
       "    </tr>\n",
       "    <tr>\n",
       "      <th>4</th>\n",
       "      <td>156.218.66.7</td>\n",
       "      <td>-</td>\n",
       "      <td>http://www.molina.org/index/</td>\n",
       "      <td>GET /wp-admin HTTP/1.0</td>\n",
       "      <td>4900</td>\n",
       "      <td>200</td>\n",
       "      <td>18/Jul/2017:20:09:35 +0530</td>\n",
       "      <td>-</td>\n",
       "      <td>Mozilla/5.0 (Windows 98; Win 9x 4.90; sl-SI; r...</td>\n",
       "      <td>GET</td>\n",
       "      <td>/wp-admin</td>\n",
       "      <td>HTTP/1.0</td>\n",
       "      <td>156.-.-.-</td>\n",
       "      <td>156.218.-.-</td>\n",
       "      <td>156.218.66.-</td>\n",
       "      <td>156.218.66.7</td>\n",
       "    </tr>\n",
       "  </tbody>\n",
       "</table>\n",
       "</div>"
      ],
      "text/plain": [
       "             HOST IDENTITY                                 REFERER  \\\n",
       "0  221.91.121.253        -  http://www.white.com/app/search/terms/   \n",
       "1     4.72.194.74        -                http://www.johnston.com/   \n",
       "2  222.79.189.106        -                   http://chan-soto.com/   \n",
       "3   57.163.21.102        -                       http://colon.com/   \n",
       "4    156.218.66.7        -            http://www.molina.org/index/   \n",
       "\n",
       "                             REQUEST  SIZE STATUS                        TIME  \\\n",
       "0      PUT /search/tag/list HTTP/1.0  5022    200  18/Jul/2017:20:01:24 +0530   \n",
       "1            POST /wp-admin HTTP/1.0  4983    200  18/Jul/2017:20:03:55 +0530   \n",
       "2  GET /posts/posts/explore HTTP/1.0  5017    200  18/Jul/2017:20:04:56 +0530   \n",
       "3              GET /explore HTTP/1.0  5047    200  18/Jul/2017:20:06:32 +0530   \n",
       "4             GET /wp-admin HTTP/1.0  4900    200  18/Jul/2017:20:09:35 +0530   \n",
       "\n",
       "  USER                                          USERAGENT REQUEST.TYPE  \\\n",
       "0    -  Mozilla/5.0 (Macintosh; U; PPC Mac OS X 10_5_7...          PUT   \n",
       "1    -  Opera/9.53.(Windows 98; Win 9x 4.90; en-US) Pr...         POST   \n",
       "2    -  Mozilla/5.0 (Windows NT 6.1) AppleWebKit/5311 ...          GET   \n",
       "3    -  Mozilla/5.0 (Macintosh; PPC Mac OS X 10_6_4) A...          GET   \n",
       "4    -  Mozilla/5.0 (Windows 98; Win 9x 4.90; sl-SI; r...          GET   \n",
       "\n",
       "           REQUEST.PATH REQUEST.VER       SUB1         SUB2          SUB3  \\\n",
       "0      /search/tag/list    HTTP/1.0  221.-.-.-   221.91.-.-  221.91.121.-   \n",
       "1             /wp-admin    HTTP/1.0    4.-.-.-     4.72.-.-    4.72.194.-   \n",
       "2  /posts/posts/explore    HTTP/1.0  222.-.-.-   222.79.-.-  222.79.189.-   \n",
       "3              /explore    HTTP/1.0   57.-.-.-   57.163.-.-   57.163.21.-   \n",
       "4             /wp-admin    HTTP/1.0  156.-.-.-  156.218.-.-  156.218.66.-   \n",
       "\n",
       "             SUB4  \n",
       "0  221.91.121.253  \n",
       "1     4.72.194.74  \n",
       "2  222.79.189.106  \n",
       "3   57.163.21.102  \n",
       "4    156.218.66.7  "
      ]
     },
     "execution_count": 98,
     "metadata": {},
     "output_type": "execute_result"
    }
   ],
   "source": [
    "def transformHost(host):\n",
    "    splits = np.array([ip.split('.') for ip in host])\n",
    "    return np.array([[\".\".join([x[0], '-', '-', '-']),\n",
    "            \".\".join([x[0], x[1], '-', '-']),\n",
    "            \".\".join([x[0], x[1], x[2], '-']),\n",
    "            \".\".join(x)\n",
    "            ] for x in splits]).T\n",
    "    \n",
    "sub1, sub2, sub3, ip = transformHost(df['HOST'])\n",
    "df['SUB1'] = sub1\n",
    "df['SUB2'] = sub2\n",
    "df['SUB3'] = sub3\n",
    "df['SUB4'] = ip\n",
    "\n",
    "df.head(5)"
   ]
  },
  {
   "cell_type": "code",
   "execution_count": 99,
   "metadata": {},
   "outputs": [
    {
     "data": {
      "text/plain": [
       "count          100\n",
       "unique          82\n",
       "top       64.-.-.-\n",
       "freq             3\n",
       "Name: SUB1, dtype: object"
      ]
     },
     "execution_count": 99,
     "metadata": {},
     "output_type": "execute_result"
    }
   ],
   "source": [
    "# distribution\n",
    "df['SUB1'].describe()"
   ]
  },
  {
   "cell_type": "code",
   "execution_count": 100,
   "metadata": {},
   "outputs": [
    {
     "data": {
      "text/plain": [
       "0     221.-.-.-\n",
       "1       4.-.-.-\n",
       "2     222.-.-.-\n",
       "3      57.-.-.-\n",
       "4     156.-.-.-\n",
       "5     104.-.-.-\n",
       "6      57.-.-.-\n",
       "7     252.-.-.-\n",
       "8     175.-.-.-\n",
       "9      68.-.-.-\n",
       "10     10.-.-.-\n",
       "11     64.-.-.-\n",
       "12     70.-.-.-\n",
       "13     56.-.-.-\n",
       "14    204.-.-.-\n",
       "15      4.-.-.-\n",
       "16    232.-.-.-\n",
       "17    143.-.-.-\n",
       "18     64.-.-.-\n",
       "19    245.-.-.-\n",
       "20    219.-.-.-\n",
       "21    147.-.-.-\n",
       "22    206.-.-.-\n",
       "23    105.-.-.-\n",
       "24    149.-.-.-\n",
       "25     38.-.-.-\n",
       "26    254.-.-.-\n",
       "27     88.-.-.-\n",
       "28    225.-.-.-\n",
       "29    199.-.-.-\n",
       "        ...    \n",
       "70    202.-.-.-\n",
       "71     26.-.-.-\n",
       "72    196.-.-.-\n",
       "73     76.-.-.-\n",
       "74    249.-.-.-\n",
       "75    201.-.-.-\n",
       "76    241.-.-.-\n",
       "77    252.-.-.-\n",
       "78    222.-.-.-\n",
       "79      2.-.-.-\n",
       "80    250.-.-.-\n",
       "81    169.-.-.-\n",
       "82     90.-.-.-\n",
       "83    226.-.-.-\n",
       "84    214.-.-.-\n",
       "85    251.-.-.-\n",
       "86    208.-.-.-\n",
       "87      6.-.-.-\n",
       "88    238.-.-.-\n",
       "89    115.-.-.-\n",
       "90    160.-.-.-\n",
       "91    104.-.-.-\n",
       "92    168.-.-.-\n",
       "93      3.-.-.-\n",
       "94     61.-.-.-\n",
       "95     26.-.-.-\n",
       "96    226.-.-.-\n",
       "97    241.-.-.-\n",
       "98    233.-.-.-\n",
       "99     86.-.-.-\n",
       "Name: SUB1, dtype: object"
      ]
     },
     "execution_count": 100,
     "metadata": {},
     "output_type": "execute_result"
    }
   ],
   "source": [
    "df['SUB1']"
   ]
  },
  {
   "cell_type": "markdown",
   "metadata": {},
   "source": [
    "Well this is little dissappointing; out of 100 we have 82 unique values; Clustering on this param doesn't seem very helpful here. However when data grows we can expect good distribution as this can have max 256 unique values;"
   ]
  },
  {
   "cell_type": "markdown",
   "metadata": {},
   "source": [
    "## Placeholder for clustering"
   ]
  },
  {
   "cell_type": "code",
   "execution_count": 110,
   "metadata": {},
   "outputs": [
    {
     "data": {
      "text/html": [
       "<div>\n",
       "<table border=\"1\" class=\"dataframe\">\n",
       "  <thead>\n",
       "    <tr style=\"text-align: right;\">\n",
       "      <th></th>\n",
       "      <th>SIZE</th>\n",
       "      <th>STATUS</th>\n",
       "      <th>REQUEST.TYPE</th>\n",
       "      <th>REQUEST.PATH</th>\n",
       "      <th>SUB1</th>\n",
       "      <th>SUB2</th>\n",
       "      <th>SUB3</th>\n",
       "    </tr>\n",
       "  </thead>\n",
       "  <tbody>\n",
       "    <tr>\n",
       "      <th>0</th>\n",
       "      <td>5022</td>\n",
       "      <td>200</td>\n",
       "      <td>PUT</td>\n",
       "      <td>/search/tag/list</td>\n",
       "      <td>221.-.-.-</td>\n",
       "      <td>221.91.-.-</td>\n",
       "      <td>221.91.121.-</td>\n",
       "    </tr>\n",
       "    <tr>\n",
       "      <th>1</th>\n",
       "      <td>4983</td>\n",
       "      <td>200</td>\n",
       "      <td>POST</td>\n",
       "      <td>/wp-admin</td>\n",
       "      <td>4.-.-.-</td>\n",
       "      <td>4.72.-.-</td>\n",
       "      <td>4.72.194.-</td>\n",
       "    </tr>\n",
       "    <tr>\n",
       "      <th>2</th>\n",
       "      <td>5017</td>\n",
       "      <td>200</td>\n",
       "      <td>GET</td>\n",
       "      <td>/posts/posts/explore</td>\n",
       "      <td>222.-.-.-</td>\n",
       "      <td>222.79.-.-</td>\n",
       "      <td>222.79.189.-</td>\n",
       "    </tr>\n",
       "    <tr>\n",
       "      <th>3</th>\n",
       "      <td>5047</td>\n",
       "      <td>200</td>\n",
       "      <td>GET</td>\n",
       "      <td>/explore</td>\n",
       "      <td>57.-.-.-</td>\n",
       "      <td>57.163.-.-</td>\n",
       "      <td>57.163.21.-</td>\n",
       "    </tr>\n",
       "    <tr>\n",
       "      <th>4</th>\n",
       "      <td>4900</td>\n",
       "      <td>200</td>\n",
       "      <td>GET</td>\n",
       "      <td>/wp-admin</td>\n",
       "      <td>156.-.-.-</td>\n",
       "      <td>156.218.-.-</td>\n",
       "      <td>156.218.66.-</td>\n",
       "    </tr>\n",
       "  </tbody>\n",
       "</table>\n",
       "</div>"
      ],
      "text/plain": [
       "   SIZE STATUS REQUEST.TYPE          REQUEST.PATH       SUB1         SUB2  \\\n",
       "0  5022    200          PUT      /search/tag/list  221.-.-.-   221.91.-.-   \n",
       "1  4983    200         POST             /wp-admin    4.-.-.-     4.72.-.-   \n",
       "2  5017    200          GET  /posts/posts/explore  222.-.-.-   222.79.-.-   \n",
       "3  5047    200          GET              /explore   57.-.-.-   57.163.-.-   \n",
       "4  4900    200          GET             /wp-admin  156.-.-.-  156.218.-.-   \n",
       "\n",
       "           SUB3  \n",
       "0  221.91.121.-  \n",
       "1    4.72.194.-  \n",
       "2  222.79.189.-  \n",
       "3   57.163.21.-  \n",
       "4  156.218.66.-  "
      ]
     },
     "execution_count": 110,
     "metadata": {},
     "output_type": "execute_result"
    }
   ],
   "source": [
    "df2 = df.copy(deep=True)\n",
    "df2 = df2.drop(['TIME', 'HOST', 'IDENTITY', 'REFERER', 'REQUEST', 'USERAGENT', 'REQUEST.VER', 'SUB4', 'USER'], 1)\n",
    "df2.head(5)"
   ]
  },
  {
   "cell_type": "code",
   "execution_count": 117,
   "metadata": {},
   "outputs": [
    {
     "data": {
      "text/html": [
       "<div>\n",
       "<table border=\"1\" class=\"dataframe\">\n",
       "  <thead>\n",
       "    <tr style=\"text-align: right;\">\n",
       "      <th></th>\n",
       "      <th>SIZE</th>\n",
       "      <th>REQUEST.TYPE.PUT</th>\n",
       "      <th>REQUEST.TYPE.POST</th>\n",
       "      <th>REQUEST.TYPE.GET</th>\n",
       "      <th>REQUEST.TYPE.DELETE</th>\n",
       "      <th>STATUS.200</th>\n",
       "      <th>STATUS.404</th>\n",
       "      <th>STATUS.500</th>\n",
       "      <th>STATUS.301</th>\n",
       "      <th>REQUEST.PATH./search/tag/list</th>\n",
       "      <th>...</th>\n",
       "      <th>SUB1.251.-.-.-</th>\n",
       "      <th>SUB1.208.-.-.-</th>\n",
       "      <th>SUB1.6.-.-.-</th>\n",
       "      <th>SUB1.238.-.-.-</th>\n",
       "      <th>SUB1.115.-.-.-</th>\n",
       "      <th>SUB1.160.-.-.-</th>\n",
       "      <th>SUB1.168.-.-.-</th>\n",
       "      <th>SUB1.61.-.-.-</th>\n",
       "      <th>SUB1.233.-.-.-</th>\n",
       "      <th>SUB1.86.-.-.-</th>\n",
       "    </tr>\n",
       "  </thead>\n",
       "  <tbody>\n",
       "    <tr>\n",
       "      <th>0</th>\n",
       "      <td>5022</td>\n",
       "      <td>1</td>\n",
       "      <td>0</td>\n",
       "      <td>0</td>\n",
       "      <td>0</td>\n",
       "      <td>1</td>\n",
       "      <td>0</td>\n",
       "      <td>0</td>\n",
       "      <td>0</td>\n",
       "      <td>1</td>\n",
       "      <td>...</td>\n",
       "      <td>0</td>\n",
       "      <td>0</td>\n",
       "      <td>0</td>\n",
       "      <td>0</td>\n",
       "      <td>0</td>\n",
       "      <td>0</td>\n",
       "      <td>0</td>\n",
       "      <td>0</td>\n",
       "      <td>0</td>\n",
       "      <td>0</td>\n",
       "    </tr>\n",
       "    <tr>\n",
       "      <th>1</th>\n",
       "      <td>4983</td>\n",
       "      <td>0</td>\n",
       "      <td>1</td>\n",
       "      <td>0</td>\n",
       "      <td>0</td>\n",
       "      <td>1</td>\n",
       "      <td>0</td>\n",
       "      <td>0</td>\n",
       "      <td>0</td>\n",
       "      <td>0</td>\n",
       "      <td>...</td>\n",
       "      <td>0</td>\n",
       "      <td>0</td>\n",
       "      <td>0</td>\n",
       "      <td>0</td>\n",
       "      <td>0</td>\n",
       "      <td>0</td>\n",
       "      <td>0</td>\n",
       "      <td>0</td>\n",
       "      <td>0</td>\n",
       "      <td>0</td>\n",
       "    </tr>\n",
       "    <tr>\n",
       "      <th>2</th>\n",
       "      <td>5017</td>\n",
       "      <td>0</td>\n",
       "      <td>0</td>\n",
       "      <td>1</td>\n",
       "      <td>0</td>\n",
       "      <td>1</td>\n",
       "      <td>0</td>\n",
       "      <td>0</td>\n",
       "      <td>0</td>\n",
       "      <td>0</td>\n",
       "      <td>...</td>\n",
       "      <td>0</td>\n",
       "      <td>0</td>\n",
       "      <td>0</td>\n",
       "      <td>0</td>\n",
       "      <td>0</td>\n",
       "      <td>0</td>\n",
       "      <td>0</td>\n",
       "      <td>0</td>\n",
       "      <td>0</td>\n",
       "      <td>0</td>\n",
       "    </tr>\n",
       "    <tr>\n",
       "      <th>3</th>\n",
       "      <td>5047</td>\n",
       "      <td>0</td>\n",
       "      <td>0</td>\n",
       "      <td>1</td>\n",
       "      <td>0</td>\n",
       "      <td>1</td>\n",
       "      <td>0</td>\n",
       "      <td>0</td>\n",
       "      <td>0</td>\n",
       "      <td>0</td>\n",
       "      <td>...</td>\n",
       "      <td>0</td>\n",
       "      <td>0</td>\n",
       "      <td>0</td>\n",
       "      <td>0</td>\n",
       "      <td>0</td>\n",
       "      <td>0</td>\n",
       "      <td>0</td>\n",
       "      <td>0</td>\n",
       "      <td>0</td>\n",
       "      <td>0</td>\n",
       "    </tr>\n",
       "    <tr>\n",
       "      <th>4</th>\n",
       "      <td>4900</td>\n",
       "      <td>0</td>\n",
       "      <td>0</td>\n",
       "      <td>1</td>\n",
       "      <td>0</td>\n",
       "      <td>1</td>\n",
       "      <td>0</td>\n",
       "      <td>0</td>\n",
       "      <td>0</td>\n",
       "      <td>0</td>\n",
       "      <td>...</td>\n",
       "      <td>0</td>\n",
       "      <td>0</td>\n",
       "      <td>0</td>\n",
       "      <td>0</td>\n",
       "      <td>0</td>\n",
       "      <td>0</td>\n",
       "      <td>0</td>\n",
       "      <td>0</td>\n",
       "      <td>0</td>\n",
       "      <td>0</td>\n",
       "    </tr>\n",
       "  </tbody>\n",
       "</table>\n",
       "<p>5 rows × 110 columns</p>\n",
       "</div>"
      ],
      "text/plain": [
       "   SIZE  REQUEST.TYPE.PUT  REQUEST.TYPE.POST  REQUEST.TYPE.GET  \\\n",
       "0  5022                 1                  0                 0   \n",
       "1  4983                 0                  1                 0   \n",
       "2  5017                 0                  0                 1   \n",
       "3  5047                 0                  0                 1   \n",
       "4  4900                 0                  0                 1   \n",
       "\n",
       "   REQUEST.TYPE.DELETE  STATUS.200  STATUS.404  STATUS.500  STATUS.301  \\\n",
       "0                    0           1           0           0           0   \n",
       "1                    0           1           0           0           0   \n",
       "2                    0           1           0           0           0   \n",
       "3                    0           1           0           0           0   \n",
       "4                    0           1           0           0           0   \n",
       "\n",
       "   REQUEST.PATH./search/tag/list      ...        SUB1.251.-.-.-  \\\n",
       "0                              1      ...                     0   \n",
       "1                              0      ...                     0   \n",
       "2                              0      ...                     0   \n",
       "3                              0      ...                     0   \n",
       "4                              0      ...                     0   \n",
       "\n",
       "   SUB1.208.-.-.-  SUB1.6.-.-.-  SUB1.238.-.-.-  SUB1.115.-.-.-  \\\n",
       "0               0             0               0               0   \n",
       "1               0             0               0               0   \n",
       "2               0             0               0               0   \n",
       "3               0             0               0               0   \n",
       "4               0             0               0               0   \n",
       "\n",
       "   SUB1.160.-.-.-  SUB1.168.-.-.-  SUB1.61.-.-.-  SUB1.233.-.-.-  \\\n",
       "0               0               0              0               0   \n",
       "1               0               0              0               0   \n",
       "2               0               0              0               0   \n",
       "3               0               0              0               0   \n",
       "4               0               0              0               0   \n",
       "\n",
       "   SUB1.86.-.-.-  \n",
       "0              0  \n",
       "1              0  \n",
       "2              0  \n",
       "3              0  \n",
       "4              0  \n",
       "\n",
       "[5 rows x 110 columns]"
      ]
     },
     "execution_count": 117,
     "metadata": {},
     "output_type": "execute_result"
    }
   ],
   "source": [
    "## let's do some more one hot encoding\n",
    "for elem in df2['REQUEST.TYPE'].unique():\n",
    "    df2['REQUEST.TYPE.' +elem] = 0\n",
    "    df2.loc[df2['REQUEST.TYPE'] == elem, 'REQUEST.TYPE.' +elem] = 1\n",
    "    \n",
    "for elem in df2['STATUS'].unique():\n",
    "    df2['STATUS.' +elem] = 0\n",
    "    df2.loc[df2['STATUS'] == elem, 'STATUS.' +elem] = 1\n",
    "    \n",
    "for elem in df2['REQUEST.PATH'].unique():\n",
    "    df2['REQUEST.PATH.' +elem] = 0\n",
    "    df2.loc[df2['REQUEST.PATH'] == elem, 'REQUEST.PATH.' +elem] = 1\n",
    "    \n",
    "for elem in df2['SUB1'].unique():\n",
    "    df2['SUB1.' +elem] = 0\n",
    "    df2.loc[df2['SUB1'] == elem, 'SUB1.' +elem] = 1\n",
    "    \n",
    "df2 = df2.drop(['STATUS', 'REQUEST.TYPE', 'REQUEST.PATH', 'SUB1', 'SUB2', 'SUB3'], 1)\n",
    "df2.head(5)"
   ]
  },
  {
   "cell_type": "code",
   "execution_count": 121,
   "metadata": {},
   "outputs": [
    {
     "name": "stdout",
     "output_type": "stream",
     "text": [
      "[['5022' 1 0 ..., 0 0 0]\n",
      " ['4983' 0 1 ..., 0 0 0]\n",
      " ['5017' 0 0 ..., 0 0 0]\n",
      " ..., \n",
      " ['4917' 0 0 ..., 0 0 0]\n",
      " ['5082' 0 0 ..., 0 1 0]\n",
      " ['5029' 0 0 ..., 0 0 1]]\n",
      "[[ 0.56331878  1.          0.         ...,  0.          0.          0.        ]\n",
      " [ 0.3930131   0.          1.         ...,  0.          0.          0.        ]\n",
      " [ 0.54148472  0.          0.         ...,  0.          0.          0.        ]\n",
      " ..., \n",
      " [ 0.10480349  0.          0.         ...,  0.          0.          0.        ]\n",
      " [ 0.82532751  0.          0.         ...,  0.          1.          0.        ]\n",
      " [ 0.59388646  0.          0.         ...,  0.          0.          1.        ]]\n"
     ]
    }
   ],
   "source": [
    "# Normalize the values\n",
    "from sklearn.preprocessing import MinMaxScaler\n",
    "matrix = df2.values\n",
    "print (matrix)\n",
    "\n",
    "scaler = MinMaxScaler()\n",
    "matrix = scaler.fit_transform(matrix)\n",
    "print (matrix)"
   ]
  },
  {
   "cell_type": "code",
   "execution_count": 126,
   "metadata": {},
   "outputs": [
    {
     "name": "stdout",
     "output_type": "stream",
     "text": [
      "[1 0 2 2 0 1 3 2 0 2 2 0 4 0 2 1 1 4 0 3 2 4 0 3 1 3 2 1 0 3 2 2 1 2 4 1 3\n",
      " 0 0 2 3 2 2 0 2 1 2 2 3 4 3 2 3 0 4 2 1 2 0 2 2 2 2 2 0 2 2 4 1 4 0 0 2 3\n",
      " 0 4 2 4 1 1 1 2 2 2 2 4 2 2 2 2 1 1 2 2 0 0 2 4 3 3]\n"
     ]
    }
   ],
   "source": [
    "# Kmeans\n",
    "from sklearn.cluster import KMeans\n",
    "kmean = KMeans(n_clusters=5, init='k-means++')\n",
    "kmean.fit(matrix)\n",
    "\n",
    "labels = kmean.labels_\n",
    "print (labels)"
   ]
  },
  {
   "cell_type": "code",
   "execution_count": 129,
   "metadata": {},
   "outputs": [
    {
     "data": {
      "text/plain": [
       "<matplotlib.colorbar.Colorbar at 0x273243a9320>"
      ]
     },
     "execution_count": 129,
     "metadata": {},
     "output_type": "execute_result"
    },
    {
     "data": {
      "image/png": "[encoded data removed]",
      "text/plain": [
       "<matplotlib.figure.Figure at 0x27323a10320>"
      ]
     },
     "metadata": {},
     "output_type": "display_data"
    }
   ],
   "source": [
    "# Some sort of visualization to understand the experiment\n",
    "from sklearn.decomposition import PCA\n",
    "pca = PCA(n_components=2).fit(matrix)\n",
    "pca_2d = pca.transform(matrix)\n",
    "\n",
    "fig = plt.figure()\n",
    "ax = fig.add_subplot(111)\n",
    "scatter = ax.scatter(pca_2d[:,0],pca_2d[:,1],c=labels,s=50)\n",
    "plt.colorbar(scatter)"
   ]
  }
 ],
 "metadata": {
  "kernelspec": {
   "display_name": "Python 3",
   "language": "python",
   "name": "python3"
  },
  "language_info": {
   "codemirror_mode": {
    "name": "ipython",
    "version": 3
   },
   "file_extension": ".py",
   "mimetype": "text/x-python",
   "name": "python",
   "nbconvert_exporter": "python",
   "pygments_lexer": "ipython3",
   "version": "3.5.2"
  }
 },
 "nbformat": 4,
 "nbformat_minor": 2
}
